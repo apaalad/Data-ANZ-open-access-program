{
 "cells": [
  {
   "cell_type": "code",
   "execution_count": 1,
   "id": "91ac5efd",
   "metadata": {},
   "outputs": [
    {
     "name": "stderr",
     "output_type": "stream",
     "text": [
      "C:\\Users\\Apaala\\anaconda3\\lib\\site-packages\\scipy\\__init__.py:146: UserWarning: A NumPy version >=1.16.5 and <1.23.0 is required for this version of SciPy (detected version 1.23.1\n",
      "  warnings.warn(f\"A NumPy version >={np_minversion} and <{np_maxversion}\"\n"
     ]
    }
   ],
   "source": [
    "import pandas as pd\n",
    "import matplotlib.pyplot as plt\n",
    "import seaborn as sns\n",
    "from datetime import datetime "
   ]
  },
  {
   "cell_type": "code",
   "execution_count": 2,
   "id": "5e7261b9",
   "metadata": {},
   "outputs": [],
   "source": [
    "df=pd.read_excel('ANZ synthesised transaction dataset.xlsx')"
   ]
  },
  {
   "cell_type": "code",
   "execution_count": 3,
   "id": "2fa1261b",
   "metadata": {},
   "outputs": [
    {
     "data": {
      "text/html": [
       "<div>\n",
       "<style scoped>\n",
       "    .dataframe tbody tr th:only-of-type {\n",
       "        vertical-align: middle;\n",
       "    }\n",
       "\n",
       "    .dataframe tbody tr th {\n",
       "        vertical-align: top;\n",
       "    }\n",
       "\n",
       "    .dataframe thead th {\n",
       "        text-align: right;\n",
       "    }\n",
       "</style>\n",
       "<table border=\"1\" class=\"dataframe\">\n",
       "  <thead>\n",
       "    <tr style=\"text-align: right;\">\n",
       "      <th></th>\n",
       "      <th>status</th>\n",
       "      <th>card_present_flag</th>\n",
       "      <th>bpay_biller_code</th>\n",
       "      <th>account</th>\n",
       "      <th>currency</th>\n",
       "      <th>long_lat</th>\n",
       "      <th>txn_description</th>\n",
       "      <th>merchant_id</th>\n",
       "      <th>merchant_code</th>\n",
       "      <th>first_name</th>\n",
       "      <th>...</th>\n",
       "      <th>age</th>\n",
       "      <th>merchant_suburb</th>\n",
       "      <th>merchant_state</th>\n",
       "      <th>extraction</th>\n",
       "      <th>amount</th>\n",
       "      <th>transaction_id</th>\n",
       "      <th>country</th>\n",
       "      <th>customer_id</th>\n",
       "      <th>merchant_long_lat</th>\n",
       "      <th>movement</th>\n",
       "    </tr>\n",
       "  </thead>\n",
       "  <tbody>\n",
       "    <tr>\n",
       "      <th>0</th>\n",
       "      <td>authorized</td>\n",
       "      <td>1.0</td>\n",
       "      <td>NaN</td>\n",
       "      <td>ACC-1598451071</td>\n",
       "      <td>AUD</td>\n",
       "      <td>153.41 -27.95</td>\n",
       "      <td>POS</td>\n",
       "      <td>81c48296-73be-44a7-befa-d053f48ce7cd</td>\n",
       "      <td>NaN</td>\n",
       "      <td>Diana</td>\n",
       "      <td>...</td>\n",
       "      <td>26</td>\n",
       "      <td>Ashmore</td>\n",
       "      <td>QLD</td>\n",
       "      <td>2018-08-01T01:01:15.000+0000</td>\n",
       "      <td>16.25</td>\n",
       "      <td>a623070bfead4541a6b0fff8a09e706c</td>\n",
       "      <td>Australia</td>\n",
       "      <td>CUS-2487424745</td>\n",
       "      <td>153.38 -27.99</td>\n",
       "      <td>debit</td>\n",
       "    </tr>\n",
       "    <tr>\n",
       "      <th>1</th>\n",
       "      <td>authorized</td>\n",
       "      <td>0.0</td>\n",
       "      <td>NaN</td>\n",
       "      <td>ACC-1598451071</td>\n",
       "      <td>AUD</td>\n",
       "      <td>153.41 -27.95</td>\n",
       "      <td>SALES-POS</td>\n",
       "      <td>830a451c-316e-4a6a-bf25-e37caedca49e</td>\n",
       "      <td>NaN</td>\n",
       "      <td>Diana</td>\n",
       "      <td>...</td>\n",
       "      <td>26</td>\n",
       "      <td>Sydney</td>\n",
       "      <td>NSW</td>\n",
       "      <td>2018-08-01T01:13:45.000+0000</td>\n",
       "      <td>14.19</td>\n",
       "      <td>13270a2a902145da9db4c951e04b51b9</td>\n",
       "      <td>Australia</td>\n",
       "      <td>CUS-2487424745</td>\n",
       "      <td>151.21 -33.87</td>\n",
       "      <td>debit</td>\n",
       "    </tr>\n",
       "    <tr>\n",
       "      <th>2</th>\n",
       "      <td>authorized</td>\n",
       "      <td>1.0</td>\n",
       "      <td>NaN</td>\n",
       "      <td>ACC-1222300524</td>\n",
       "      <td>AUD</td>\n",
       "      <td>151.23 -33.94</td>\n",
       "      <td>POS</td>\n",
       "      <td>835c231d-8cdf-4e96-859d-e9d571760cf0</td>\n",
       "      <td>NaN</td>\n",
       "      <td>Michael</td>\n",
       "      <td>...</td>\n",
       "      <td>38</td>\n",
       "      <td>Sydney</td>\n",
       "      <td>NSW</td>\n",
       "      <td>2018-08-01T01:26:15.000+0000</td>\n",
       "      <td>6.42</td>\n",
       "      <td>feb79e7ecd7048a5a36ec889d1a94270</td>\n",
       "      <td>Australia</td>\n",
       "      <td>CUS-2142601169</td>\n",
       "      <td>151.21 -33.87</td>\n",
       "      <td>debit</td>\n",
       "    </tr>\n",
       "    <tr>\n",
       "      <th>3</th>\n",
       "      <td>authorized</td>\n",
       "      <td>1.0</td>\n",
       "      <td>NaN</td>\n",
       "      <td>ACC-1037050564</td>\n",
       "      <td>AUD</td>\n",
       "      <td>153.10 -27.66</td>\n",
       "      <td>SALES-POS</td>\n",
       "      <td>48514682-c78a-4a88-b0da-2d6302e64673</td>\n",
       "      <td>NaN</td>\n",
       "      <td>Rhonda</td>\n",
       "      <td>...</td>\n",
       "      <td>40</td>\n",
       "      <td>Buderim</td>\n",
       "      <td>QLD</td>\n",
       "      <td>2018-08-01T01:38:45.000+0000</td>\n",
       "      <td>40.90</td>\n",
       "      <td>2698170da3704fd981b15e64a006079e</td>\n",
       "      <td>Australia</td>\n",
       "      <td>CUS-1614226872</td>\n",
       "      <td>153.05 -26.68</td>\n",
       "      <td>debit</td>\n",
       "    </tr>\n",
       "    <tr>\n",
       "      <th>4</th>\n",
       "      <td>authorized</td>\n",
       "      <td>1.0</td>\n",
       "      <td>NaN</td>\n",
       "      <td>ACC-1598451071</td>\n",
       "      <td>AUD</td>\n",
       "      <td>153.41 -27.95</td>\n",
       "      <td>SALES-POS</td>\n",
       "      <td>b4e02c10-0852-4273-b8fd-7b3395e32eb0</td>\n",
       "      <td>NaN</td>\n",
       "      <td>Diana</td>\n",
       "      <td>...</td>\n",
       "      <td>26</td>\n",
       "      <td>Mermaid Beach</td>\n",
       "      <td>QLD</td>\n",
       "      <td>2018-08-01T01:51:15.000+0000</td>\n",
       "      <td>3.25</td>\n",
       "      <td>329adf79878c4cf0aeb4188b4691c266</td>\n",
       "      <td>Australia</td>\n",
       "      <td>CUS-2487424745</td>\n",
       "      <td>153.44 -28.06</td>\n",
       "      <td>debit</td>\n",
       "    </tr>\n",
       "  </tbody>\n",
       "</table>\n",
       "<p>5 rows × 23 columns</p>\n",
       "</div>"
      ],
      "text/plain": [
       "       status  card_present_flag bpay_biller_code         account currency  \\\n",
       "0  authorized                1.0              NaN  ACC-1598451071      AUD   \n",
       "1  authorized                0.0              NaN  ACC-1598451071      AUD   \n",
       "2  authorized                1.0              NaN  ACC-1222300524      AUD   \n",
       "3  authorized                1.0              NaN  ACC-1037050564      AUD   \n",
       "4  authorized                1.0              NaN  ACC-1598451071      AUD   \n",
       "\n",
       "        long_lat txn_description                           merchant_id  \\\n",
       "0  153.41 -27.95             POS  81c48296-73be-44a7-befa-d053f48ce7cd   \n",
       "1  153.41 -27.95       SALES-POS  830a451c-316e-4a6a-bf25-e37caedca49e   \n",
       "2  151.23 -33.94             POS  835c231d-8cdf-4e96-859d-e9d571760cf0   \n",
       "3  153.10 -27.66       SALES-POS  48514682-c78a-4a88-b0da-2d6302e64673   \n",
       "4  153.41 -27.95       SALES-POS  b4e02c10-0852-4273-b8fd-7b3395e32eb0   \n",
       "\n",
       "   merchant_code first_name  ...  age merchant_suburb merchant_state  \\\n",
       "0            NaN      Diana  ...   26         Ashmore            QLD   \n",
       "1            NaN      Diana  ...   26          Sydney            NSW   \n",
       "2            NaN    Michael  ...   38          Sydney            NSW   \n",
       "3            NaN     Rhonda  ...   40         Buderim            QLD   \n",
       "4            NaN      Diana  ...   26   Mermaid Beach            QLD   \n",
       "\n",
       "                     extraction amount                    transaction_id  \\\n",
       "0  2018-08-01T01:01:15.000+0000  16.25  a623070bfead4541a6b0fff8a09e706c   \n",
       "1  2018-08-01T01:13:45.000+0000  14.19  13270a2a902145da9db4c951e04b51b9   \n",
       "2  2018-08-01T01:26:15.000+0000   6.42  feb79e7ecd7048a5a36ec889d1a94270   \n",
       "3  2018-08-01T01:38:45.000+0000  40.90  2698170da3704fd981b15e64a006079e   \n",
       "4  2018-08-01T01:51:15.000+0000   3.25  329adf79878c4cf0aeb4188b4691c266   \n",
       "\n",
       "     country     customer_id merchant_long_lat movement  \n",
       "0  Australia  CUS-2487424745     153.38 -27.99    debit  \n",
       "1  Australia  CUS-2487424745     151.21 -33.87    debit  \n",
       "2  Australia  CUS-2142601169     151.21 -33.87    debit  \n",
       "3  Australia  CUS-1614226872     153.05 -26.68    debit  \n",
       "4  Australia  CUS-2487424745     153.44 -28.06    debit  \n",
       "\n",
       "[5 rows x 23 columns]"
      ]
     },
     "execution_count": 3,
     "metadata": {},
     "output_type": "execute_result"
    }
   ],
   "source": [
    "df.head()"
   ]
  },
  {
   "cell_type": "code",
   "execution_count": 4,
   "id": "cb6daafb",
   "metadata": {},
   "outputs": [
    {
     "name": "stdout",
     "output_type": "stream",
     "text": [
      "<class 'pandas.core.frame.DataFrame'>\n",
      "RangeIndex: 12043 entries, 0 to 12042\n",
      "Data columns (total 23 columns):\n",
      " #   Column             Non-Null Count  Dtype         \n",
      "---  ------             --------------  -----         \n",
      " 0   status             12043 non-null  object        \n",
      " 1   card_present_flag  7717 non-null   float64       \n",
      " 2   bpay_biller_code   885 non-null    object        \n",
      " 3   account            12043 non-null  object        \n",
      " 4   currency           12043 non-null  object        \n",
      " 5   long_lat           12043 non-null  object        \n",
      " 6   txn_description    12043 non-null  object        \n",
      " 7   merchant_id        7717 non-null   object        \n",
      " 8   merchant_code      883 non-null    float64       \n",
      " 9   first_name         12043 non-null  object        \n",
      " 10  balance            12043 non-null  float64       \n",
      " 11  date               12043 non-null  datetime64[ns]\n",
      " 12  gender             12043 non-null  object        \n",
      " 13  age                12043 non-null  int64         \n",
      " 14  merchant_suburb    7717 non-null   object        \n",
      " 15  merchant_state     7717 non-null   object        \n",
      " 16  extraction         12043 non-null  object        \n",
      " 17  amount             12043 non-null  float64       \n",
      " 18  transaction_id     12043 non-null  object        \n",
      " 19  country            12043 non-null  object        \n",
      " 20  customer_id        12043 non-null  object        \n",
      " 21  merchant_long_lat  7717 non-null   object        \n",
      " 22  movement           12043 non-null  object        \n",
      "dtypes: datetime64[ns](1), float64(4), int64(1), object(17)\n",
      "memory usage: 2.1+ MB\n"
     ]
    }
   ],
   "source": [
    "df.info()"
   ]
  },
  {
   "cell_type": "code",
   "execution_count": 5,
   "id": "b7fee377",
   "metadata": {},
   "outputs": [
    {
     "data": {
      "text/html": [
       "<div>\n",
       "<style scoped>\n",
       "    .dataframe tbody tr th:only-of-type {\n",
       "        vertical-align: middle;\n",
       "    }\n",
       "\n",
       "    .dataframe tbody tr th {\n",
       "        vertical-align: top;\n",
       "    }\n",
       "\n",
       "    .dataframe thead th {\n",
       "        text-align: right;\n",
       "    }\n",
       "</style>\n",
       "<table border=\"1\" class=\"dataframe\">\n",
       "  <thead>\n",
       "    <tr style=\"text-align: right;\">\n",
       "      <th></th>\n",
       "      <th>card_present_flag</th>\n",
       "      <th>merchant_code</th>\n",
       "      <th>balance</th>\n",
       "      <th>age</th>\n",
       "      <th>amount</th>\n",
       "    </tr>\n",
       "  </thead>\n",
       "  <tbody>\n",
       "    <tr>\n",
       "      <th>count</th>\n",
       "      <td>7717.000000</td>\n",
       "      <td>883.0</td>\n",
       "      <td>12043.000000</td>\n",
       "      <td>12043.000000</td>\n",
       "      <td>12043.000000</td>\n",
       "    </tr>\n",
       "    <tr>\n",
       "      <th>mean</th>\n",
       "      <td>0.802644</td>\n",
       "      <td>0.0</td>\n",
       "      <td>14704.195553</td>\n",
       "      <td>30.582330</td>\n",
       "      <td>187.933588</td>\n",
       "    </tr>\n",
       "    <tr>\n",
       "      <th>std</th>\n",
       "      <td>0.398029</td>\n",
       "      <td>0.0</td>\n",
       "      <td>31503.722652</td>\n",
       "      <td>10.046343</td>\n",
       "      <td>592.599934</td>\n",
       "    </tr>\n",
       "    <tr>\n",
       "      <th>min</th>\n",
       "      <td>0.000000</td>\n",
       "      <td>0.0</td>\n",
       "      <td>0.240000</td>\n",
       "      <td>18.000000</td>\n",
       "      <td>0.100000</td>\n",
       "    </tr>\n",
       "    <tr>\n",
       "      <th>25%</th>\n",
       "      <td>1.000000</td>\n",
       "      <td>0.0</td>\n",
       "      <td>3158.585000</td>\n",
       "      <td>22.000000</td>\n",
       "      <td>16.000000</td>\n",
       "    </tr>\n",
       "    <tr>\n",
       "      <th>50%</th>\n",
       "      <td>1.000000</td>\n",
       "      <td>0.0</td>\n",
       "      <td>6432.010000</td>\n",
       "      <td>28.000000</td>\n",
       "      <td>29.000000</td>\n",
       "    </tr>\n",
       "    <tr>\n",
       "      <th>75%</th>\n",
       "      <td>1.000000</td>\n",
       "      <td>0.0</td>\n",
       "      <td>12465.945000</td>\n",
       "      <td>38.000000</td>\n",
       "      <td>53.655000</td>\n",
       "    </tr>\n",
       "    <tr>\n",
       "      <th>max</th>\n",
       "      <td>1.000000</td>\n",
       "      <td>0.0</td>\n",
       "      <td>267128.520000</td>\n",
       "      <td>78.000000</td>\n",
       "      <td>8835.980000</td>\n",
       "    </tr>\n",
       "  </tbody>\n",
       "</table>\n",
       "</div>"
      ],
      "text/plain": [
       "       card_present_flag  merchant_code        balance           age  \\\n",
       "count        7717.000000          883.0   12043.000000  12043.000000   \n",
       "mean            0.802644            0.0   14704.195553     30.582330   \n",
       "std             0.398029            0.0   31503.722652     10.046343   \n",
       "min             0.000000            0.0       0.240000     18.000000   \n",
       "25%             1.000000            0.0    3158.585000     22.000000   \n",
       "50%             1.000000            0.0    6432.010000     28.000000   \n",
       "75%             1.000000            0.0   12465.945000     38.000000   \n",
       "max             1.000000            0.0  267128.520000     78.000000   \n",
       "\n",
       "             amount  \n",
       "count  12043.000000  \n",
       "mean     187.933588  \n",
       "std      592.599934  \n",
       "min        0.100000  \n",
       "25%       16.000000  \n",
       "50%       29.000000  \n",
       "75%       53.655000  \n",
       "max     8835.980000  "
      ]
     },
     "execution_count": 5,
     "metadata": {},
     "output_type": "execute_result"
    }
   ],
   "source": [
    "df.describe()"
   ]
  },
  {
   "cell_type": "code",
   "execution_count": 6,
   "id": "1814935c",
   "metadata": {},
   "outputs": [
    {
     "data": {
      "text/plain": [
       "status                   2\n",
       "card_present_flag        2\n",
       "bpay_biller_code         3\n",
       "account                100\n",
       "currency                 1\n",
       "long_lat               100\n",
       "txn_description          6\n",
       "merchant_id           5725\n",
       "merchant_code            1\n",
       "first_name              80\n",
       "balance              12006\n",
       "date                    91\n",
       "gender                   2\n",
       "age                     33\n",
       "merchant_suburb       1609\n",
       "merchant_state           8\n",
       "extraction            9442\n",
       "amount                4457\n",
       "transaction_id       12043\n",
       "country                  1\n",
       "customer_id            100\n",
       "merchant_long_lat     2703\n",
       "movement                 2\n",
       "dtype: int64"
      ]
     },
     "execution_count": 6,
     "metadata": {},
     "output_type": "execute_result"
    }
   ],
   "source": [
    "df.nunique()"
   ]
  },
  {
   "cell_type": "markdown",
   "id": "f15c082b",
   "metadata": {},
   "source": [
    "## Missing Data"
   ]
  },
  {
   "cell_type": "code",
   "execution_count": 7,
   "id": "963b9744",
   "metadata": {},
   "outputs": [
    {
     "name": "stdout",
     "output_type": "stream",
     "text": [
      "card_present_flag   [ 1.  0. nan]\n",
      "bpay_biller_code   [nan 0 ' THE DISCOUNT CHEMIST GROUP'\n",
      " ' LAND WATER & PLANNING East Melbourne']\n",
      "merchant_state   ['QLD' 'NSW' nan 'VIC' 'WA' 'SA' 'NT' 'TAS' 'ACT']\n"
     ]
    }
   ],
   "source": [
    "cols=['card_present_flag', 'bpay_biller_code', 'merchant_state']\n",
    "for col in cols:\n",
    "    print(col, \" \", df[col].unique())"
   ]
  },
  {
   "cell_type": "markdown",
   "id": "6527c79c",
   "metadata": {},
   "source": [
    "We can fill the missing card_present values with 0.\n",
    "bpay_biller has too many missing values we will not consider this columns"
   ]
  },
  {
   "cell_type": "code",
   "execution_count": 8,
   "id": "934b45ea",
   "metadata": {},
   "outputs": [],
   "source": [
    "df['card_present_flag']=df['card_present_flag'].fillna(0)"
   ]
  },
  {
   "cell_type": "markdown",
   "id": "e42a57f4",
   "metadata": {},
   "source": [
    "## EDA"
   ]
  },
  {
   "cell_type": "code",
   "execution_count": 9,
   "id": "3cc69380",
   "metadata": {},
   "outputs": [
    {
     "name": "stdout",
     "output_type": "stream",
     "text": [
      "Average transaction amount : 187.93358797641767\n",
      "Average number of transactions per customer: 120.43\n"
     ]
    }
   ],
   "source": [
    "#avg transaction amount\n",
    "avg_amt=df['amount'].mean()\n",
    "#avg number of transactions\n",
    "avg_transactions=df.groupby('customer_id').count()['status'].mean()\n",
    "print(f\"Average transaction amount : {avg_amt}\")\n",
    "print(f\"Average number of transactions per customer: {avg_transactions}\")"
   ]
  },
  {
   "cell_type": "code",
   "execution_count": 10,
   "id": "6df86d11",
   "metadata": {},
   "outputs": [
    {
     "name": "stdout",
     "output_type": "stream",
     "text": [
      "Averages by gender \n",
      "\n",
      "Average transaction amount\n",
      "F : 168.51730288294547\n",
      "M : 205.7218090692124 \n",
      "\n",
      "Average number of transactions\n",
      "F: 130.86363636363637\n",
      "M: 112.23214285714286\n"
     ]
    },
    {
     "data": {
      "image/png": "[encoded data removed]",
      "text/plain": [
       "<Figure size 432x288 with 1 Axes>"
      ]
     },
     "metadata": {},
     "output_type": "display_data"
    }
   ],
   "source": [
    "## by gender\n",
    "\n",
    "fem=df[df['gender']=='F'].shape[0]\n",
    "m=df.shape[0]-fem\n",
    "label=['Female',\"Male\"]\n",
    "sizes = [fem,m]\n",
    "plt.pie(sizes, labels=label, autopct=lambda p: '{:.2f}%\\n({:.0f})'.format(p,(p/100)*df.shape[0]));\n",
    "\n",
    "\n",
    "print('Averages by gender \\n')\n",
    "#avg transaction amount\n",
    "avg_amt=df.groupby('gender')['amount'].mean()\n",
    "print(\"Average transaction amount\")\n",
    "print(avg_amt.index[0],\":\" ,avg_amt[0])\n",
    "print(avg_amt.index[1],\":\" ,avg_amt[1],\"\\n\")\n",
    "\n",
    "\n",
    "#avg number of transactions\n",
    "avg_transactions=df.groupby(['gender','customer_id']).count()['status']\n",
    "avg_trans_f=avg_transactions['F'].mean()\n",
    "avg_trans_m=avg_transactions['M'].mean()\n",
    "\n",
    "print(\"Average number of transactions\")\n",
    "print(\"F:\" ,avg_trans_f)\n",
    "print(\"M:\" ,avg_trans_m)"
   ]
  },
  {
   "cell_type": "code",
   "execution_count": 12,
   "id": "45411fe1",
   "metadata": {},
   "outputs": [
    {
     "name": "stdout",
     "output_type": "stream",
     "text": [
      "Averages by state \n",
      "\n",
      "Average transaction amount\n",
      "QLD :66.80\n",
      "NSW :47.04\n",
      "VIC :44.73\n",
      "WA :34.37\n",
      "SA :40.43\n",
      "NT :28.87\n",
      "TAS :41.10\n",
      "ACT :30.90\n",
      "\n",
      "Average number of transaction by state\n",
      "QLD : 23.58\n",
      "NSW : 24.37\n",
      "VIC : 23.68\n",
      "WA : 16.92\n",
      "SA : 6.01\n",
      "NT : 29.29\n",
      "TAS : 6.80\n",
      "ACT : 4.06\n"
     ]
    },
    {
     "data": {
      "image/png": "[encoded data removed]",
      "text/plain": [
       "<Figure size 720x720 with 1 Axes>"
      ]
     },
     "metadata": {},
     "output_type": "display_data"
    }
   ],
   "source": [
    "## by state\n",
    "df_state=df[['merchant_state','customer_id','amount']]\n",
    "df_state=df_state.dropna()\n",
    "states=df_state['merchant_state'].unique()\n",
    "print('Averages by state \\n')\n",
    "#avg transaction amount\n",
    "avg_amt=df_state.groupby('merchant_state')['amount'].mean()\n",
    "print(\"Average transaction amount\")\n",
    "for i,st in enumerate(states):\n",
    "    print(st,\":{:.2f}\".format(avg_amt[i]))\n",
    "\n",
    "#avg number of transaction\n",
    "print('\\nAverage number of transaction by state')\n",
    "av_st=df.groupby(['merchant_state','customer_id']).count()['amount']\n",
    "for st in states:\n",
    "    avg=av_st[st].mean()\n",
    "    print(st,\": {:.2f}\".format(avg))\n",
    "    \n",
    "#number of transactions\n",
    "transactions=df_state.groupby(['merchant_state']).count()\n",
    "plt.figure(figsize=(10,10))\n",
    "plt.pie(transactions['amount'], labels=transactions.index, \n",
    "        autopct=lambda p: '{:.2f}%\\n({:.0f})'.format(p,(p/100)*df_state.shape[0]));\n",
    "\n"
   ]
  },
  {
   "cell_type": "code",
   "execution_count": 13,
   "id": "f44be3b1",
   "metadata": {},
   "outputs": [],
   "source": [
    "##by time\n",
    "df['month']=df['date'].dt.month\n",
    "df['day']=df['date'].dt.day\n",
    "df['weekday']=df['date'].dt.weekday"
   ]
  },
  {
   "cell_type": "code",
   "execution_count": 14,
   "id": "442eaa0a",
   "metadata": {},
   "outputs": [
    {
     "name": "stdout",
     "output_type": "stream",
     "text": [
      "Averages by month \n",
      "\n",
      "Average transaction amount\n",
      "August :185.12\n",
      "September :182.05\n",
      "October :196.43\n",
      "\n",
      "Average number of transaction by month\n",
      "August : 39.43\n",
      "September : 40.13\n",
      "October : 40.87\n"
     ]
    },
    {
     "data": {
      "image/png": "[encoded data removed]",
      "text/plain": [
       "<Figure size 432x288 with 1 Axes>"
      ]
     },
     "metadata": {
      "needs_background": "light"
     },
     "output_type": "display_data"
    }
   ],
   "source": [
    "#month\n",
    "months=['August','September','October']\n",
    "\n",
    "print('Averages by month \\n')\n",
    "#avg transaction amount\n",
    "avg_amt=df.groupby('month')['amount'].mean()\n",
    "print(\"Average transaction amount\")\n",
    "for i,m in enumerate(months):\n",
    "    print(m,\":{:.2f}\".format(avg_amt[i+8]))\n",
    "\n",
    "#avg number of transaction\n",
    "print('\\nAverage number of transaction by month')\n",
    "av_mon=df.groupby(['month','customer_id']).count()['amount']\n",
    "for i,m in enumerate(months):\n",
    "    avg=av_mon[i+8].mean()\n",
    "    print(m,\": {:.2f}\".format(avg))\n",
    "    \n",
    "sns.histplot(df['month']);\n",
    "plt.xticks([8,9,10]);"
   ]
  },
  {
   "cell_type": "code",
   "execution_count": 15,
   "id": "0a8a031b",
   "metadata": {},
   "outputs": [
    {
     "data": {
      "image/png": "[encoded data removed]",
      "text/plain": [
       "<Figure size 720x360 with 1 Axes>"
      ]
     },
     "metadata": {
      "needs_background": "light"
     },
     "output_type": "display_data"
    }
   ],
   "source": [
    "#day\n",
    "plt.figure(figsize=(10,5))\n",
    "sns.histplot(df['day'],bins=31)\n",
    "plt.xticks(range(1,32));"
   ]
  },
  {
   "cell_type": "code",
   "execution_count": 16,
   "id": "07e15f97",
   "metadata": {},
   "outputs": [
    {
     "name": "stdout",
     "output_type": "stream",
     "text": [
      "Averages by weekday \n",
      "\n",
      "Average transaction amount\n",
      "Monday :373.22\n",
      "Tuesday :221.58\n",
      "Wednesday :195.22\n",
      "Thursday :184.01\n",
      "Friday :249.35\n",
      "Saturday :54.42\n",
      "Sunday :53.02\n",
      "\n",
      "Average number of transaction by weekday\n",
      "Monday : 13.74\n",
      "Tuesday : 15.02\n",
      "Wednesday : 20.63\n",
      "Thursday : 18.01\n",
      "Friday : 20.94\n",
      "Saturday : 17.26\n",
      "Sunday : 15.50\n"
     ]
    },
    {
     "data": {
      "image/png": "[encoded data removed]",
      "text/plain": [
       "<Figure size 432x288 with 1 Axes>"
      ]
     },
     "metadata": {
      "needs_background": "light"
     },
     "output_type": "display_data"
    }
   ],
   "source": [
    "#weekday\n",
    "weekdays = (\"Monday\", \"Tuesday\",\"Wednesday\", \"Thursday\",\"Friday\", \"Saturday\",\"Sunday\")\n",
    "\n",
    "print('Averages by weekday \\n')\n",
    "#avg transaction amount\n",
    "avg_amt=df.groupby('weekday')['amount'].mean()\n",
    "print(\"Average transaction amount\")\n",
    "for i,w in enumerate(weekdays):\n",
    "    print(w,\":{:.2f}\".format(avg_amt[i]))\n",
    "\n",
    "#avg number of transaction\n",
    "print('\\nAverage number of transaction by weekday')\n",
    "av_weekday=df.groupby(['weekday','customer_id']).count()['amount']\n",
    "for i,m in enumerate(weekdays):\n",
    "    avg=av_weekday[i].mean()\n",
    "    print(m,\": {:.2f}\".format(avg))\n",
    "    \n",
    "sns.histplot(df['weekday']);"
   ]
  },
  {
   "cell_type": "code",
   "execution_count": 17,
   "id": "33eed16a",
   "metadata": {},
   "outputs": [],
   "source": [
    "### location\n",
    "df_loc=df[['customer_id', 'long_lat', 'merchant_long_lat']].dropna()"
   ]
  },
  {
   "cell_type": "code",
   "execution_count": 18,
   "id": "67f8a871",
   "metadata": {},
   "outputs": [],
   "source": [
    "df_loc['longitude']=df_loc['long_lat'].apply(lambda x:float(x.partition('-')[0]))\n",
    "df_loc['latitude']=df_loc['long_lat'].apply(lambda x:float(x.partition('-')[2]))\n",
    "\n",
    "df_loc['merch_longitude']=df_loc['merchant_long_lat'].apply(lambda x:float(x.partition('-')[0]))\n",
    "df_loc['merch_latitude']=df_loc['merchant_long_lat'].apply(lambda x:float(x.partition('-')[2]))"
   ]
  },
  {
   "cell_type": "code",
   "execution_count": 19,
   "id": "853c6081",
   "metadata": {},
   "outputs": [
    {
     "data": {
      "text/html": [
       "<div>\n",
       "<style scoped>\n",
       "    .dataframe tbody tr th:only-of-type {\n",
       "        vertical-align: middle;\n",
       "    }\n",
       "\n",
       "    .dataframe tbody tr th {\n",
       "        vertical-align: top;\n",
       "    }\n",
       "\n",
       "    .dataframe thead th {\n",
       "        text-align: right;\n",
       "    }\n",
       "</style>\n",
       "<table border=\"1\" class=\"dataframe\">\n",
       "  <thead>\n",
       "    <tr style=\"text-align: right;\">\n",
       "      <th></th>\n",
       "      <th>customer_id</th>\n",
       "      <th>long_lat</th>\n",
       "      <th>merchant_long_lat</th>\n",
       "      <th>longitude</th>\n",
       "      <th>latitude</th>\n",
       "      <th>merch_longitude</th>\n",
       "      <th>merch_latitude</th>\n",
       "    </tr>\n",
       "  </thead>\n",
       "  <tbody>\n",
       "    <tr>\n",
       "      <th>0</th>\n",
       "      <td>CUS-2487424745</td>\n",
       "      <td>153.41 -27.95</td>\n",
       "      <td>153.38 -27.99</td>\n",
       "      <td>153.41</td>\n",
       "      <td>27.95</td>\n",
       "      <td>153.38</td>\n",
       "      <td>27.99</td>\n",
       "    </tr>\n",
       "    <tr>\n",
       "      <th>1</th>\n",
       "      <td>CUS-2487424745</td>\n",
       "      <td>153.41 -27.95</td>\n",
       "      <td>151.21 -33.87</td>\n",
       "      <td>153.41</td>\n",
       "      <td>27.95</td>\n",
       "      <td>151.21</td>\n",
       "      <td>33.87</td>\n",
       "    </tr>\n",
       "    <tr>\n",
       "      <th>2</th>\n",
       "      <td>CUS-2142601169</td>\n",
       "      <td>151.23 -33.94</td>\n",
       "      <td>151.21 -33.87</td>\n",
       "      <td>151.23</td>\n",
       "      <td>33.94</td>\n",
       "      <td>151.21</td>\n",
       "      <td>33.87</td>\n",
       "    </tr>\n",
       "    <tr>\n",
       "      <th>3</th>\n",
       "      <td>CUS-1614226872</td>\n",
       "      <td>153.10 -27.66</td>\n",
       "      <td>153.05 -26.68</td>\n",
       "      <td>153.10</td>\n",
       "      <td>27.66</td>\n",
       "      <td>153.05</td>\n",
       "      <td>26.68</td>\n",
       "    </tr>\n",
       "    <tr>\n",
       "      <th>4</th>\n",
       "      <td>CUS-2487424745</td>\n",
       "      <td>153.41 -27.95</td>\n",
       "      <td>153.44 -28.06</td>\n",
       "      <td>153.41</td>\n",
       "      <td>27.95</td>\n",
       "      <td>153.44</td>\n",
       "      <td>28.06</td>\n",
       "    </tr>\n",
       "  </tbody>\n",
       "</table>\n",
       "</div>"
      ],
      "text/plain": [
       "      customer_id       long_lat merchant_long_lat  longitude  latitude  \\\n",
       "0  CUS-2487424745  153.41 -27.95     153.38 -27.99     153.41     27.95   \n",
       "1  CUS-2487424745  153.41 -27.95     151.21 -33.87     153.41     27.95   \n",
       "2  CUS-2142601169  151.23 -33.94     151.21 -33.87     151.23     33.94   \n",
       "3  CUS-1614226872  153.10 -27.66     153.05 -26.68     153.10     27.66   \n",
       "4  CUS-2487424745  153.41 -27.95     153.44 -28.06     153.41     27.95   \n",
       "\n",
       "   merch_longitude  merch_latitude  \n",
       "0           153.38           27.99  \n",
       "1           151.21           33.87  \n",
       "2           151.21           33.87  \n",
       "3           153.05           26.68  \n",
       "4           153.44           28.06  "
      ]
     },
     "execution_count": 19,
     "metadata": {},
     "output_type": "execute_result"
    }
   ],
   "source": [
    "df_loc.head()"
   ]
  },
  {
   "cell_type": "code",
   "execution_count": 20,
   "id": "80fcae52",
   "metadata": {},
   "outputs": [],
   "source": [
    "from math import radians, cos, sin, asin, sqrt\n",
    "def distance(lat1, lat2, lon1, lon2):\n",
    "     \n",
    "    # The math module contains a function named\n",
    "    # radians which converts from degrees to radians.\n",
    "    lon1 = radians(lon1)\n",
    "    lon2 = radians(lon2)\n",
    "    lat1 = radians(lat1)\n",
    "    lat2 = radians(lat2)\n",
    "      \n",
    "    # Haversine formula\n",
    "    dlon = lon2 - lon1\n",
    "    dlat = lat2 - lat1\n",
    "    a = sin(dlat / 2)**2 + cos(lat1) * cos(lat2) * sin(dlon / 2)**2\n",
    " \n",
    "    c = 2 * asin(sqrt(a))\n",
    "    \n",
    "    # Radius of earth in kilometers. Use 3956 for miles\n",
    "    r = 6371\n",
    "      \n",
    "    # calculate the result\n",
    "    return(c * r)\n",
    "\n",
    "df_loc['distance']=df_loc.apply(lambda x:distance(x['latitude'],x['merch_latitude'],x['longitude'],x['merch_longitude']),\n",
    "                               axis=1)"
   ]
  },
  {
   "cell_type": "code",
   "execution_count": 21,
   "id": "f38eb8d8",
   "metadata": {},
   "outputs": [
    {
     "name": "stdout",
     "output_type": "stream",
     "text": [
      "Average distance between merchant and customer:562.2949828091431 km\n"
     ]
    },
    {
     "data": {
      "image/png": "[encoded data removed]",
      "text/plain": [
       "<Figure size 432x288 with 1 Axes>"
      ]
     },
     "metadata": {
      "needs_background": "light"
     },
     "output_type": "display_data"
    }
   ],
   "source": [
    "plt.hist(df_loc['distance']);\n",
    "print(f\"Average distance between merchant and customer:{df_loc['distance'].mean()} km\")"
   ]
  },
  {
   "cell_type": "code",
   "execution_count": 22,
   "id": "e5602626",
   "metadata": {},
   "outputs": [
    {
     "data": {
      "text/html": [
       "<div>\n",
       "<style scoped>\n",
       "    .dataframe tbody tr th:only-of-type {\n",
       "        vertical-align: middle;\n",
       "    }\n",
       "\n",
       "    .dataframe tbody tr th {\n",
       "        vertical-align: top;\n",
       "    }\n",
       "\n",
       "    .dataframe thead th {\n",
       "        text-align: right;\n",
       "    }\n",
       "</style>\n",
       "<table border=\"1\" class=\"dataframe\">\n",
       "  <thead>\n",
       "    <tr style=\"text-align: right;\">\n",
       "      <th></th>\n",
       "      <th>longitude</th>\n",
       "      <th>latitude</th>\n",
       "      <th>merch_longitude</th>\n",
       "      <th>merch_latitude</th>\n",
       "      <th>distance</th>\n",
       "    </tr>\n",
       "  </thead>\n",
       "  <tbody>\n",
       "    <tr>\n",
       "      <th>count</th>\n",
       "      <td>7717.000000</td>\n",
       "      <td>7717.000000</td>\n",
       "      <td>7717.000000</td>\n",
       "      <td>7717.000000</td>\n",
       "      <td>7717.000000</td>\n",
       "    </tr>\n",
       "    <tr>\n",
       "      <th>mean</th>\n",
       "      <td>143.779001</td>\n",
       "      <td>37.682413</td>\n",
       "      <td>143.433277</td>\n",
       "      <td>32.752651</td>\n",
       "      <td>562.294983</td>\n",
       "    </tr>\n",
       "    <tr>\n",
       "      <th>std</th>\n",
       "      <td>16.901687</td>\n",
       "      <td>54.745625</td>\n",
       "      <td>12.090074</td>\n",
       "      <td>5.282423</td>\n",
       "      <td>1366.803804</td>\n",
       "    </tr>\n",
       "    <tr>\n",
       "      <th>min</th>\n",
       "      <td>114.620000</td>\n",
       "      <td>12.370000</td>\n",
       "      <td>113.830000</td>\n",
       "      <td>12.330000</td>\n",
       "      <td>0.000000</td>\n",
       "    </tr>\n",
       "    <tr>\n",
       "      <th>25%</th>\n",
       "      <td>138.670000</td>\n",
       "      <td>27.950000</td>\n",
       "      <td>144.680000</td>\n",
       "      <td>29.440000</td>\n",
       "      <td>15.119940</td>\n",
       "    </tr>\n",
       "    <tr>\n",
       "      <th>50%</th>\n",
       "      <td>145.730000</td>\n",
       "      <td>33.780000</td>\n",
       "      <td>145.830000</td>\n",
       "      <td>33.840000</td>\n",
       "      <td>29.996920</td>\n",
       "    </tr>\n",
       "    <tr>\n",
       "      <th>75%</th>\n",
       "      <td>151.230000</td>\n",
       "      <td>37.580000</td>\n",
       "      <td>151.210000</td>\n",
       "      <td>37.710000</td>\n",
       "      <td>299.120476</td>\n",
       "    </tr>\n",
       "    <tr>\n",
       "      <th>max</th>\n",
       "      <td>255.000000</td>\n",
       "      <td>573.000000</td>\n",
       "      <td>153.610000</td>\n",
       "      <td>43.310000</td>\n",
       "      <td>10897.288267</td>\n",
       "    </tr>\n",
       "  </tbody>\n",
       "</table>\n",
       "</div>"
      ],
      "text/plain": [
       "         longitude     latitude  merch_longitude  merch_latitude      distance\n",
       "count  7717.000000  7717.000000      7717.000000     7717.000000   7717.000000\n",
       "mean    143.779001    37.682413       143.433277       32.752651    562.294983\n",
       "std      16.901687    54.745625        12.090074        5.282423   1366.803804\n",
       "min     114.620000    12.370000       113.830000       12.330000      0.000000\n",
       "25%     138.670000    27.950000       144.680000       29.440000     15.119940\n",
       "50%     145.730000    33.780000       145.830000       33.840000     29.996920\n",
       "75%     151.230000    37.580000       151.210000       37.710000    299.120476\n",
       "max     255.000000   573.000000       153.610000       43.310000  10897.288267"
      ]
     },
     "execution_count": 22,
     "metadata": {},
     "output_type": "execute_result"
    }
   ],
   "source": [
    "df_loc.describe()"
   ]
  },
  {
   "cell_type": "code",
   "execution_count": 23,
   "id": "354ab79c",
   "metadata": {},
   "outputs": [],
   "source": [
    "## removing the outlier\n",
    "df_loc=df_loc[df_loc.latitude!=df_loc.latitude.max()]"
   ]
  },
  {
   "cell_type": "code",
   "execution_count": 24,
   "id": "b7675209",
   "metadata": {},
   "outputs": [
    {
     "name": "stdout",
     "output_type": "stream",
     "text": [
      "Average distance between merchant and customer:458.5000566867439 km\n"
     ]
    },
    {
     "data": {
      "image/png": "[encoded data removed]",
      "text/plain": [
       "<Figure size 432x288 with 1 Axes>"
      ]
     },
     "metadata": {
      "needs_background": "light"
     },
     "output_type": "display_data"
    }
   ],
   "source": [
    "plt.hist(df_loc['distance']);\n",
    "print(f\"Average distance between merchant and customer:{df_loc['distance'].mean()} km\")"
   ]
  },
  {
   "cell_type": "code",
   "execution_count": null,
   "id": "42fcacb5",
   "metadata": {},
   "outputs": [],
   "source": []
  },
  {
   "cell_type": "code",
   "execution_count": null,
   "id": "a1a24dd8",
   "metadata": {},
   "outputs": [],
   "source": []
  }
 ],
 "metadata": {
  "kernelspec": {
   "display_name": "Python 3 (ipykernel)",
   "language": "python",
   "name": "python3"
  },
  "language_info": {
   "codemirror_mode": {
    "name": "ipython",
    "version": 3
   },
   "file_extension": ".py",
   "mimetype": "text/x-python",
   "name": "python",
   "nbconvert_exporter": "python",
   "pygments_lexer": "ipython3",
   "version": "3.9.12"
  }
 },
 "nbformat": 4,
 "nbformat_minor": 5
}
