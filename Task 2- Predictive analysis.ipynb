{
 "cells": [
  {
   "cell_type": "code",
   "execution_count": 257,
   "id": "fea8c100",
   "metadata": {},
   "outputs": [],
   "source": [
    "import pandas as pd\n",
    "import matplotlib.pyplot as plt\n",
    "import seaborn as sns\n",
    "from datetime import datetime "
   ]
  },
  {
   "cell_type": "code",
   "execution_count": 258,
   "id": "69deda25",
   "metadata": {},
   "outputs": [],
   "source": [
    "df=pd.read_excel('ANZ synthesised transaction dataset.xlsx')"
   ]
  },
  {
   "cell_type": "code",
   "execution_count": 259,
   "id": "bc127266",
   "metadata": {},
   "outputs": [
    {
     "data": {
      "text/html": [
       "<div>\n",
       "<style scoped>\n",
       "    .dataframe tbody tr th:only-of-type {\n",
       "        vertical-align: middle;\n",
       "    }\n",
       "\n",
       "    .dataframe tbody tr th {\n",
       "        vertical-align: top;\n",
       "    }\n",
       "\n",
       "    .dataframe thead th {\n",
       "        text-align: right;\n",
       "    }\n",
       "</style>\n",
       "<table border=\"1\" class=\"dataframe\">\n",
       "  <thead>\n",
       "    <tr style=\"text-align: right;\">\n",
       "      <th></th>\n",
       "      <th>status</th>\n",
       "      <th>card_present_flag</th>\n",
       "      <th>bpay_biller_code</th>\n",
       "      <th>account</th>\n",
       "      <th>currency</th>\n",
       "      <th>long_lat</th>\n",
       "      <th>txn_description</th>\n",
       "      <th>merchant_id</th>\n",
       "      <th>merchant_code</th>\n",
       "      <th>first_name</th>\n",
       "      <th>...</th>\n",
       "      <th>age</th>\n",
       "      <th>merchant_suburb</th>\n",
       "      <th>merchant_state</th>\n",
       "      <th>extraction</th>\n",
       "      <th>amount</th>\n",
       "      <th>transaction_id</th>\n",
       "      <th>country</th>\n",
       "      <th>customer_id</th>\n",
       "      <th>merchant_long_lat</th>\n",
       "      <th>movement</th>\n",
       "    </tr>\n",
       "  </thead>\n",
       "  <tbody>\n",
       "    <tr>\n",
       "      <th>0</th>\n",
       "      <td>authorized</td>\n",
       "      <td>1.0</td>\n",
       "      <td>NaN</td>\n",
       "      <td>ACC-1598451071</td>\n",
       "      <td>AUD</td>\n",
       "      <td>153.41 -27.95</td>\n",
       "      <td>POS</td>\n",
       "      <td>81c48296-73be-44a7-befa-d053f48ce7cd</td>\n",
       "      <td>NaN</td>\n",
       "      <td>Diana</td>\n",
       "      <td>...</td>\n",
       "      <td>26</td>\n",
       "      <td>Ashmore</td>\n",
       "      <td>QLD</td>\n",
       "      <td>2018-08-01T01:01:15.000+0000</td>\n",
       "      <td>16.25</td>\n",
       "      <td>a623070bfead4541a6b0fff8a09e706c</td>\n",
       "      <td>Australia</td>\n",
       "      <td>CUS-2487424745</td>\n",
       "      <td>153.38 -27.99</td>\n",
       "      <td>debit</td>\n",
       "    </tr>\n",
       "    <tr>\n",
       "      <th>1</th>\n",
       "      <td>authorized</td>\n",
       "      <td>0.0</td>\n",
       "      <td>NaN</td>\n",
       "      <td>ACC-1598451071</td>\n",
       "      <td>AUD</td>\n",
       "      <td>153.41 -27.95</td>\n",
       "      <td>SALES-POS</td>\n",
       "      <td>830a451c-316e-4a6a-bf25-e37caedca49e</td>\n",
       "      <td>NaN</td>\n",
       "      <td>Diana</td>\n",
       "      <td>...</td>\n",
       "      <td>26</td>\n",
       "      <td>Sydney</td>\n",
       "      <td>NSW</td>\n",
       "      <td>2018-08-01T01:13:45.000+0000</td>\n",
       "      <td>14.19</td>\n",
       "      <td>13270a2a902145da9db4c951e04b51b9</td>\n",
       "      <td>Australia</td>\n",
       "      <td>CUS-2487424745</td>\n",
       "      <td>151.21 -33.87</td>\n",
       "      <td>debit</td>\n",
       "    </tr>\n",
       "    <tr>\n",
       "      <th>2</th>\n",
       "      <td>authorized</td>\n",
       "      <td>1.0</td>\n",
       "      <td>NaN</td>\n",
       "      <td>ACC-1222300524</td>\n",
       "      <td>AUD</td>\n",
       "      <td>151.23 -33.94</td>\n",
       "      <td>POS</td>\n",
       "      <td>835c231d-8cdf-4e96-859d-e9d571760cf0</td>\n",
       "      <td>NaN</td>\n",
       "      <td>Michael</td>\n",
       "      <td>...</td>\n",
       "      <td>38</td>\n",
       "      <td>Sydney</td>\n",
       "      <td>NSW</td>\n",
       "      <td>2018-08-01T01:26:15.000+0000</td>\n",
       "      <td>6.42</td>\n",
       "      <td>feb79e7ecd7048a5a36ec889d1a94270</td>\n",
       "      <td>Australia</td>\n",
       "      <td>CUS-2142601169</td>\n",
       "      <td>151.21 -33.87</td>\n",
       "      <td>debit</td>\n",
       "    </tr>\n",
       "    <tr>\n",
       "      <th>3</th>\n",
       "      <td>authorized</td>\n",
       "      <td>1.0</td>\n",
       "      <td>NaN</td>\n",
       "      <td>ACC-1037050564</td>\n",
       "      <td>AUD</td>\n",
       "      <td>153.10 -27.66</td>\n",
       "      <td>SALES-POS</td>\n",
       "      <td>48514682-c78a-4a88-b0da-2d6302e64673</td>\n",
       "      <td>NaN</td>\n",
       "      <td>Rhonda</td>\n",
       "      <td>...</td>\n",
       "      <td>40</td>\n",
       "      <td>Buderim</td>\n",
       "      <td>QLD</td>\n",
       "      <td>2018-08-01T01:38:45.000+0000</td>\n",
       "      <td>40.90</td>\n",
       "      <td>2698170da3704fd981b15e64a006079e</td>\n",
       "      <td>Australia</td>\n",
       "      <td>CUS-1614226872</td>\n",
       "      <td>153.05 -26.68</td>\n",
       "      <td>debit</td>\n",
       "    </tr>\n",
       "    <tr>\n",
       "      <th>4</th>\n",
       "      <td>authorized</td>\n",
       "      <td>1.0</td>\n",
       "      <td>NaN</td>\n",
       "      <td>ACC-1598451071</td>\n",
       "      <td>AUD</td>\n",
       "      <td>153.41 -27.95</td>\n",
       "      <td>SALES-POS</td>\n",
       "      <td>b4e02c10-0852-4273-b8fd-7b3395e32eb0</td>\n",
       "      <td>NaN</td>\n",
       "      <td>Diana</td>\n",
       "      <td>...</td>\n",
       "      <td>26</td>\n",
       "      <td>Mermaid Beach</td>\n",
       "      <td>QLD</td>\n",
       "      <td>2018-08-01T01:51:15.000+0000</td>\n",
       "      <td>3.25</td>\n",
       "      <td>329adf79878c4cf0aeb4188b4691c266</td>\n",
       "      <td>Australia</td>\n",
       "      <td>CUS-2487424745</td>\n",
       "      <td>153.44 -28.06</td>\n",
       "      <td>debit</td>\n",
       "    </tr>\n",
       "  </tbody>\n",
       "</table>\n",
       "<p>5 rows × 23 columns</p>\n",
       "</div>"
      ],
      "text/plain": [
       "       status  card_present_flag bpay_biller_code         account currency  \\\n",
       "0  authorized                1.0              NaN  ACC-1598451071      AUD   \n",
       "1  authorized                0.0              NaN  ACC-1598451071      AUD   \n",
       "2  authorized                1.0              NaN  ACC-1222300524      AUD   \n",
       "3  authorized                1.0              NaN  ACC-1037050564      AUD   \n",
       "4  authorized                1.0              NaN  ACC-1598451071      AUD   \n",
       "\n",
       "        long_lat txn_description                           merchant_id  \\\n",
       "0  153.41 -27.95             POS  81c48296-73be-44a7-befa-d053f48ce7cd   \n",
       "1  153.41 -27.95       SALES-POS  830a451c-316e-4a6a-bf25-e37caedca49e   \n",
       "2  151.23 -33.94             POS  835c231d-8cdf-4e96-859d-e9d571760cf0   \n",
       "3  153.10 -27.66       SALES-POS  48514682-c78a-4a88-b0da-2d6302e64673   \n",
       "4  153.41 -27.95       SALES-POS  b4e02c10-0852-4273-b8fd-7b3395e32eb0   \n",
       "\n",
       "   merchant_code first_name  ...  age merchant_suburb merchant_state  \\\n",
       "0            NaN      Diana  ...   26         Ashmore            QLD   \n",
       "1            NaN      Diana  ...   26          Sydney            NSW   \n",
       "2            NaN    Michael  ...   38          Sydney            NSW   \n",
       "3            NaN     Rhonda  ...   40         Buderim            QLD   \n",
       "4            NaN      Diana  ...   26   Mermaid Beach            QLD   \n",
       "\n",
       "                     extraction amount                    transaction_id  \\\n",
       "0  2018-08-01T01:01:15.000+0000  16.25  a623070bfead4541a6b0fff8a09e706c   \n",
       "1  2018-08-01T01:13:45.000+0000  14.19  13270a2a902145da9db4c951e04b51b9   \n",
       "2  2018-08-01T01:26:15.000+0000   6.42  feb79e7ecd7048a5a36ec889d1a94270   \n",
       "3  2018-08-01T01:38:45.000+0000  40.90  2698170da3704fd981b15e64a006079e   \n",
       "4  2018-08-01T01:51:15.000+0000   3.25  329adf79878c4cf0aeb4188b4691c266   \n",
       "\n",
       "     country     customer_id merchant_long_lat movement  \n",
       "0  Australia  CUS-2487424745     153.38 -27.99    debit  \n",
       "1  Australia  CUS-2487424745     151.21 -33.87    debit  \n",
       "2  Australia  CUS-2142601169     151.21 -33.87    debit  \n",
       "3  Australia  CUS-1614226872     153.05 -26.68    debit  \n",
       "4  Australia  CUS-2487424745     153.44 -28.06    debit  \n",
       "\n",
       "[5 rows x 23 columns]"
      ]
     },
     "execution_count": 259,
     "metadata": {},
     "output_type": "execute_result"
    }
   ],
   "source": [
    "df.head(5)"
   ]
  },
  {
   "cell_type": "code",
   "execution_count": 260,
   "id": "d2eeb13a",
   "metadata": {},
   "outputs": [
    {
     "name": "stdout",
     "output_type": "stream",
     "text": [
      "<class 'pandas.core.frame.DataFrame'>\n",
      "RangeIndex: 12043 entries, 0 to 12042\n",
      "Data columns (total 23 columns):\n",
      " #   Column             Non-Null Count  Dtype         \n",
      "---  ------             --------------  -----         \n",
      " 0   status             12043 non-null  object        \n",
      " 1   card_present_flag  7717 non-null   float64       \n",
      " 2   bpay_biller_code   885 non-null    object        \n",
      " 3   account            12043 non-null  object        \n",
      " 4   currency           12043 non-null  object        \n",
      " 5   long_lat           12043 non-null  object        \n",
      " 6   txn_description    12043 non-null  object        \n",
      " 7   merchant_id        7717 non-null   object        \n",
      " 8   merchant_code      883 non-null    float64       \n",
      " 9   first_name         12043 non-null  object        \n",
      " 10  balance            12043 non-null  float64       \n",
      " 11  date               12043 non-null  datetime64[ns]\n",
      " 12  gender             12043 non-null  object        \n",
      " 13  age                12043 non-null  int64         \n",
      " 14  merchant_suburb    7717 non-null   object        \n",
      " 15  merchant_state     7717 non-null   object        \n",
      " 16  extraction         12043 non-null  object        \n",
      " 17  amount             12043 non-null  float64       \n",
      " 18  transaction_id     12043 non-null  object        \n",
      " 19  country            12043 non-null  object        \n",
      " 20  customer_id        12043 non-null  object        \n",
      " 21  merchant_long_lat  7717 non-null   object        \n",
      " 22  movement           12043 non-null  object        \n",
      "dtypes: datetime64[ns](1), float64(4), int64(1), object(17)\n",
      "memory usage: 2.1+ MB\n"
     ]
    }
   ],
   "source": [
    "df.info()"
   ]
  },
  {
   "cell_type": "code",
   "execution_count": 261,
   "id": "26d85eaf",
   "metadata": {},
   "outputs": [
    {
     "data": {
      "text/plain": [
       "status                   2\n",
       "card_present_flag        2\n",
       "bpay_biller_code         3\n",
       "account                100\n",
       "currency                 1\n",
       "long_lat               100\n",
       "txn_description          6\n",
       "merchant_id           5725\n",
       "merchant_code            1\n",
       "first_name              80\n",
       "balance              12006\n",
       "date                    91\n",
       "gender                   2\n",
       "age                     33\n",
       "merchant_suburb       1609\n",
       "merchant_state           8\n",
       "extraction            9442\n",
       "amount                4457\n",
       "transaction_id       12043\n",
       "country                  1\n",
       "customer_id            100\n",
       "merchant_long_lat     2703\n",
       "movement                 2\n",
       "dtype: int64"
      ]
     },
     "execution_count": 261,
     "metadata": {},
     "output_type": "execute_result"
    }
   ],
   "source": [
    "df.nunique()"
   ]
  },
  {
   "cell_type": "markdown",
   "id": "1449baa6",
   "metadata": {},
   "source": [
    "We can drop the bpay_biller_code and merchant code columns as it has a lot of missing values\n",
    "#card_present_flag has missing values we can drop this column as well\n",
    "We can drop account as the same information is available from customer_id,\n",
    "currency and country can be dropped since they have just one value across the dataset\n",
    "\n",
    "We will also drop merchant_suburb and merchant_long_lat and first name\n"
   ]
  },
  {
   "cell_type": "code",
   "execution_count": 262,
   "id": "60ce07ad",
   "metadata": {},
   "outputs": [
    {
     "data": {
      "text/plain": [
       "Index(['status', 'card_present_flag', 'bpay_biller_code', 'account',\n",
       "       'currency', 'long_lat', 'txn_description', 'merchant_id',\n",
       "       'merchant_code', 'first_name', 'balance', 'date', 'gender', 'age',\n",
       "       'merchant_suburb', 'merchant_state', 'extraction', 'amount',\n",
       "       'transaction_id', 'country', 'customer_id', 'merchant_long_lat',\n",
       "       'movement'],\n",
       "      dtype='object')"
      ]
     },
     "execution_count": 262,
     "metadata": {},
     "output_type": "execute_result"
    }
   ],
   "source": [
    "df.columns"
   ]
  },
  {
   "cell_type": "code",
   "execution_count": 263,
   "id": "9f64dc0b",
   "metadata": {},
   "outputs": [],
   "source": [
    "drop_cols=['card_present_flag', 'bpay_biller_code', 'account','currency','merchant_code',\n",
    "           'first_name','country','merchant_long_lat']\n",
    "df=df.drop(columns=drop_cols)"
   ]
  },
  {
   "cell_type": "markdown",
   "id": "53dcb393",
   "metadata": {},
   "source": [
    "## Finding the salary"
   ]
  },
  {
   "cell_type": "code",
   "execution_count": 264,
   "id": "5e176cbd",
   "metadata": {},
   "outputs": [
    {
     "data": {
      "text/plain": [
       "array(['PAY/SALARY'], dtype=object)"
      ]
     },
     "execution_count": 264,
     "metadata": {},
     "output_type": "execute_result"
    }
   ],
   "source": [
    "df[df['movement']=='credit'].txn_description.unique()\n",
    "## so all the credit transactions are payments"
   ]
  },
  {
   "cell_type": "code",
   "execution_count": 265,
   "id": "8def890e",
   "metadata": {},
   "outputs": [
    {
     "data": {
      "text/html": [
       "<div>\n",
       "<style scoped>\n",
       "    .dataframe tbody tr th:only-of-type {\n",
       "        vertical-align: middle;\n",
       "    }\n",
       "\n",
       "    .dataframe tbody tr th {\n",
       "        vertical-align: top;\n",
       "    }\n",
       "\n",
       "    .dataframe thead th {\n",
       "        text-align: right;\n",
       "    }\n",
       "</style>\n",
       "<table border=\"1\" class=\"dataframe\">\n",
       "  <thead>\n",
       "    <tr style=\"text-align: right;\">\n",
       "      <th></th>\n",
       "      <th>balance</th>\n",
       "      <th>age</th>\n",
       "      <th>amount</th>\n",
       "    </tr>\n",
       "  </thead>\n",
       "  <tbody>\n",
       "    <tr>\n",
       "      <th>count</th>\n",
       "      <td>12043.000000</td>\n",
       "      <td>12043.000000</td>\n",
       "      <td>12043.000000</td>\n",
       "    </tr>\n",
       "    <tr>\n",
       "      <th>mean</th>\n",
       "      <td>14704.195553</td>\n",
       "      <td>30.582330</td>\n",
       "      <td>187.933588</td>\n",
       "    </tr>\n",
       "    <tr>\n",
       "      <th>std</th>\n",
       "      <td>31503.722652</td>\n",
       "      <td>10.046343</td>\n",
       "      <td>592.599934</td>\n",
       "    </tr>\n",
       "    <tr>\n",
       "      <th>min</th>\n",
       "      <td>0.240000</td>\n",
       "      <td>18.000000</td>\n",
       "      <td>0.100000</td>\n",
       "    </tr>\n",
       "    <tr>\n",
       "      <th>25%</th>\n",
       "      <td>3158.585000</td>\n",
       "      <td>22.000000</td>\n",
       "      <td>16.000000</td>\n",
       "    </tr>\n",
       "    <tr>\n",
       "      <th>50%</th>\n",
       "      <td>6432.010000</td>\n",
       "      <td>28.000000</td>\n",
       "      <td>29.000000</td>\n",
       "    </tr>\n",
       "    <tr>\n",
       "      <th>75%</th>\n",
       "      <td>12465.945000</td>\n",
       "      <td>38.000000</td>\n",
       "      <td>53.655000</td>\n",
       "    </tr>\n",
       "    <tr>\n",
       "      <th>max</th>\n",
       "      <td>267128.520000</td>\n",
       "      <td>78.000000</td>\n",
       "      <td>8835.980000</td>\n",
       "    </tr>\n",
       "  </tbody>\n",
       "</table>\n",
       "</div>"
      ],
      "text/plain": [
       "             balance           age        amount\n",
       "count   12043.000000  12043.000000  12043.000000\n",
       "mean    14704.195553     30.582330    187.933588\n",
       "std     31503.722652     10.046343    592.599934\n",
       "min         0.240000     18.000000      0.100000\n",
       "25%      3158.585000     22.000000     16.000000\n",
       "50%      6432.010000     28.000000     29.000000\n",
       "75%     12465.945000     38.000000     53.655000\n",
       "max    267128.520000     78.000000   8835.980000"
      ]
     },
     "execution_count": 265,
     "metadata": {},
     "output_type": "execute_result"
    }
   ],
   "source": [
    "df.describe()"
   ]
  },
  {
   "cell_type": "code",
   "execution_count": 266,
   "id": "d4791938",
   "metadata": {},
   "outputs": [],
   "source": [
    "sal_df=pd.DataFrame(df['customer_id'].unique(), columns=['customer_id'])"
   ]
  },
  {
   "cell_type": "code",
   "execution_count": 267,
   "id": "5be26564",
   "metadata": {},
   "outputs": [
    {
     "data": {
      "text/html": [
       "<div>\n",
       "<style scoped>\n",
       "    .dataframe tbody tr th:only-of-type {\n",
       "        vertical-align: middle;\n",
       "    }\n",
       "\n",
       "    .dataframe tbody tr th {\n",
       "        vertical-align: top;\n",
       "    }\n",
       "\n",
       "    .dataframe thead th {\n",
       "        text-align: right;\n",
       "    }\n",
       "</style>\n",
       "<table border=\"1\" class=\"dataframe\">\n",
       "  <thead>\n",
       "    <tr style=\"text-align: right;\">\n",
       "      <th></th>\n",
       "      <th>customer_id</th>\n",
       "    </tr>\n",
       "  </thead>\n",
       "  <tbody>\n",
       "    <tr>\n",
       "      <th>0</th>\n",
       "      <td>CUS-2487424745</td>\n",
       "    </tr>\n",
       "    <tr>\n",
       "      <th>1</th>\n",
       "      <td>CUS-2142601169</td>\n",
       "    </tr>\n",
       "    <tr>\n",
       "      <th>2</th>\n",
       "      <td>CUS-1614226872</td>\n",
       "    </tr>\n",
       "    <tr>\n",
       "      <th>3</th>\n",
       "      <td>CUS-2688605418</td>\n",
       "    </tr>\n",
       "    <tr>\n",
       "      <th>4</th>\n",
       "      <td>CUS-4123612273</td>\n",
       "    </tr>\n",
       "  </tbody>\n",
       "</table>\n",
       "</div>"
      ],
      "text/plain": [
       "      customer_id\n",
       "0  CUS-2487424745\n",
       "1  CUS-2142601169\n",
       "2  CUS-1614226872\n",
       "3  CUS-2688605418\n",
       "4  CUS-4123612273"
      ]
     },
     "execution_count": 267,
     "metadata": {},
     "output_type": "execute_result"
    }
   ],
   "source": [
    "sal_df.head()"
   ]
  },
  {
   "cell_type": "code",
   "execution_count": 268,
   "id": "3cab52a5",
   "metadata": {},
   "outputs": [],
   "source": [
    "df['month']=df['date'].dt.month"
   ]
  },
  {
   "cell_type": "code",
   "execution_count": 269,
   "id": "4043e0ad",
   "metadata": {},
   "outputs": [],
   "source": [
    "## we find the various salary transactions and sum them over each month\n",
    "##assuming salary to be constant across the observed period, we take the mode over the 3 months as the monthly salary\n",
    "df1=df[df['movement']=='credit']\n",
    "X=df1.groupby(['customer_id','month']).sum()['amount']\n",
    "\n",
    "sal=[]\n",
    "for cust in sal_df['customer_id']:\n",
    "    sal.append(X[cust].mode()[0])\n",
    "\n",
    "sal_df['salary']=sal\n",
    "#multiply by 12 to get annual salary\n",
    "sal_df['salary']=sal_df['salary']*12"
   ]
  },
  {
   "cell_type": "code",
   "execution_count": 270,
   "id": "59bf737c",
   "metadata": {},
   "outputs": [
    {
     "data": {
      "text/html": [
       "<div>\n",
       "<style scoped>\n",
       "    .dataframe tbody tr th:only-of-type {\n",
       "        vertical-align: middle;\n",
       "    }\n",
       "\n",
       "    .dataframe tbody tr th {\n",
       "        vertical-align: top;\n",
       "    }\n",
       "\n",
       "    .dataframe thead th {\n",
       "        text-align: right;\n",
       "    }\n",
       "</style>\n",
       "<table border=\"1\" class=\"dataframe\">\n",
       "  <thead>\n",
       "    <tr style=\"text-align: right;\">\n",
       "      <th></th>\n",
       "      <th>customer_id</th>\n",
       "      <th>salary</th>\n",
       "    </tr>\n",
       "  </thead>\n",
       "  <tbody>\n",
       "    <tr>\n",
       "      <th>0</th>\n",
       "      <td>CUS-2487424745</td>\n",
       "      <td>60820.20</td>\n",
       "    </tr>\n",
       "    <tr>\n",
       "      <th>1</th>\n",
       "      <td>CUS-2142601169</td>\n",
       "      <td>48102.24</td>\n",
       "    </tr>\n",
       "    <tr>\n",
       "      <th>2</th>\n",
       "      <td>CUS-1614226872</td>\n",
       "      <td>42820.32</td>\n",
       "    </tr>\n",
       "    <tr>\n",
       "      <th>3</th>\n",
       "      <td>CUS-2688605418</td>\n",
       "      <td>55687.20</td>\n",
       "    </tr>\n",
       "    <tr>\n",
       "      <th>4</th>\n",
       "      <td>CUS-4123612273</td>\n",
       "      <td>64082.40</td>\n",
       "    </tr>\n",
       "  </tbody>\n",
       "</table>\n",
       "</div>"
      ],
      "text/plain": [
       "      customer_id    salary\n",
       "0  CUS-2487424745  60820.20\n",
       "1  CUS-2142601169  48102.24\n",
       "2  CUS-1614226872  42820.32\n",
       "3  CUS-2688605418  55687.20\n",
       "4  CUS-4123612273  64082.40"
      ]
     },
     "execution_count": 270,
     "metadata": {},
     "output_type": "execute_result"
    }
   ],
   "source": [
    "sal_df.head()"
   ]
  },
  {
   "cell_type": "code",
   "execution_count": 271,
   "id": "aea4e73f",
   "metadata": {},
   "outputs": [
    {
     "data": {
      "text/plain": [
       "<AxesSubplot:xlabel='salary', ylabel='Count'>"
      ]
     },
     "execution_count": 271,
     "metadata": {},
     "output_type": "execute_result"
    },
    {
     "data": {
      "image/png": "[encoded data removed]",
      "text/plain": [
       "<Figure size 432x288 with 1 Axes>"
      ]
     },
     "metadata": {
      "needs_background": "light"
     },
     "output_type": "display_data"
    }
   ],
   "source": [
    "sns.histplot(sal_df.salary)"
   ]
  },
  {
   "cell_type": "markdown",
   "id": "08cb4faf",
   "metadata": {},
   "source": [
    "# Extracting the features"
   ]
  },
  {
   "cell_type": "code",
   "execution_count": 272,
   "id": "98d7dd19",
   "metadata": {},
   "outputs": [
    {
     "name": "stdout",
     "output_type": "stream",
     "text": [
      "<class 'pandas.core.frame.DataFrame'>\n",
      "Int64Index: 11160 entries, 0 to 12042\n",
      "Data columns (total 16 columns):\n",
      " #   Column           Non-Null Count  Dtype         \n",
      "---  ------           --------------  -----         \n",
      " 0   status           11160 non-null  object        \n",
      " 1   long_lat         11160 non-null  object        \n",
      " 2   txn_description  11160 non-null  object        \n",
      " 3   merchant_id      7717 non-null   object        \n",
      " 4   balance          11160 non-null  float64       \n",
      " 5   date             11160 non-null  datetime64[ns]\n",
      " 6   gender           11160 non-null  object        \n",
      " 7   age              11160 non-null  int64         \n",
      " 8   merchant_suburb  7717 non-null   object        \n",
      " 9   merchant_state   7717 non-null   object        \n",
      " 10  extraction       11160 non-null  object        \n",
      " 11  amount           11160 non-null  float64       \n",
      " 12  transaction_id   11160 non-null  object        \n",
      " 13  customer_id      11160 non-null  object        \n",
      " 14  movement         11160 non-null  object        \n",
      " 15  month            11160 non-null  int64         \n",
      "dtypes: datetime64[ns](1), float64(2), int64(2), object(11)\n",
      "memory usage: 1.4+ MB\n"
     ]
    }
   ],
   "source": [
    "df=df[df['movement']=='debit']\n",
    "df.info()"
   ]
  },
  {
   "cell_type": "markdown",
   "id": "66df27d4",
   "metadata": {},
   "source": [
    "We will extract the following features\n",
    "1. long_lat: find the longitude and latitude (use k_means?)\n",
    "2. balance: find the average balance\n",
    "3. gender\n",
    "4. age\n",
    "5. state: assume the state where most transactions occur. for missing values use the most common state\n",
    "6. amount: find average and max transactions amounts\n",
    "7. find the number of transaction per week"
   ]
  },
  {
   "cell_type": "code",
   "execution_count": 273,
   "id": "053c63bf",
   "metadata": {},
   "outputs": [],
   "source": [
    "df['extraction']=df.apply(lambda x:datetime.strptime(x['extraction'], \"%Y-%m-%dT%H:%M:%S.000+0000\"), axis=1)\n",
    "df['week']=df['extraction'].dt.isocalendar().week\n",
    "#finding the week so we can find weekly averages\n",
    "\n",
    "# we want to fill the missing merchant state using the most frequent state\n",
    "df['merchant_state']=df['merchant_state'].fillna(df['merchant_state'].mode()[0])"
   ]
  },
  {
   "cell_type": "code",
   "execution_count": 274,
   "id": "1df8f83c",
   "metadata": {},
   "outputs": [],
   "source": [
    "#finding the longitude and latitude\n",
    "#long=[]\n",
    "#lat=[]\n",
    "#X=df.groupby('customer_id')['long_lat'].first()\n",
    "#for cust in sal_df['customer_id']:\n",
    "#    long.append(X[cust].split('-')[0])\n",
    "#    lat.append(X[cust].split('-')[1])\n",
    "    \n",
    "#sal_df['long']=long\n",
    "#sal_df['lat']=lat"
   ]
  },
  {
   "cell_type": "code",
   "execution_count": 275,
   "id": "bcfa6ee0",
   "metadata": {},
   "outputs": [],
   "source": [
    "bal=[]\n",
    "X=df.groupby('customer_id')['balance'].mean()\n",
    "for cust in sal_df['customer_id']:\n",
    "    bal.append(X[cust])\n",
    "    \n",
    "sal_df['balance']=bal\n",
    "\n"
   ]
  },
  {
   "cell_type": "code",
   "execution_count": 276,
   "id": "45322cd8",
   "metadata": {},
   "outputs": [],
   "source": [
    "#finding the age\n",
    "age=[]\n",
    "X=df.groupby('customer_id')['age'].first()\n",
    "for cust in sal_df['customer_id']:\n",
    "    age.append(X[cust])\n",
    "    \n",
    "sal_df['age']=age"
   ]
  },
  {
   "cell_type": "code",
   "execution_count": 277,
   "id": "35fbc8e7",
   "metadata": {},
   "outputs": [],
   "source": [
    "#finding the gender\n",
    "gender=[]\n",
    "X=df.groupby('customer_id')['gender'].first()\n",
    "for cust in sal_df['customer_id']:\n",
    "    gender.append(X[cust])\n",
    "    \n",
    "sal_df['gender']=gender"
   ]
  },
  {
   "cell_type": "code",
   "execution_count": 278,
   "id": "e3b7607c",
   "metadata": {},
   "outputs": [],
   "source": [
    "#finding the state\n",
    "state=[]\n",
    "X=df.groupby('customer_id')['merchant_state'].agg(pd.Series.mode)\n",
    "for cust in sal_df['customer_id']:\n",
    "    if type(X[cust])==str:\n",
    "        state.append(X[cust])\n",
    "    else:\n",
    "        state.append(X[cust][0])\n",
    "    \n",
    "sal_df['state']=state"
   ]
  },
  {
   "cell_type": "code",
   "execution_count": 279,
   "id": "d576ec19",
   "metadata": {},
   "outputs": [],
   "source": [
    "#maximum and average transaction amounts\n",
    "X=df.groupby('customer_id')['amount']\n",
    "X_max=X.max()\n",
    "X_avg=X.mean()\n",
    "max_txn=[]\n",
    "avg_txn=[]\n",
    "for cust in sal_df['customer_id']:\n",
    "    max_txn.append(X_max[cust])\n",
    "    avg_txn.append(X_avg[cust])\n",
    "\n",
    "sal_df['max_txn']=max_txn\n",
    "sal_df['avg_txn']=avg_txn"
   ]
  },
  {
   "cell_type": "code",
   "execution_count": 280,
   "id": "b0266a37",
   "metadata": {},
   "outputs": [],
   "source": [
    "X=df.groupby(['customer_id', 'week']).count()['status']\n",
    "txn_per_week=[]\n",
    "for cust in sal_df['customer_id']:\n",
    "    txn_per_week.append(X[cust].mean())\n",
    "    \n",
    "sal_df['txn_per_week']=txn_per_week"
   ]
  },
  {
   "cell_type": "code",
   "execution_count": 281,
   "id": "e96fc426",
   "metadata": {},
   "outputs": [
    {
     "data": {
      "text/html": [
       "<div>\n",
       "<style scoped>\n",
       "    .dataframe tbody tr th:only-of-type {\n",
       "        vertical-align: middle;\n",
       "    }\n",
       "\n",
       "    .dataframe tbody tr th {\n",
       "        vertical-align: top;\n",
       "    }\n",
       "\n",
       "    .dataframe thead th {\n",
       "        text-align: right;\n",
       "    }\n",
       "</style>\n",
       "<table border=\"1\" class=\"dataframe\">\n",
       "  <thead>\n",
       "    <tr style=\"text-align: right;\">\n",
       "      <th></th>\n",
       "      <th>customer_id</th>\n",
       "      <th>salary</th>\n",
       "      <th>balance</th>\n",
       "      <th>age</th>\n",
       "      <th>gender</th>\n",
       "      <th>state</th>\n",
       "      <th>max_txn</th>\n",
       "      <th>avg_txn</th>\n",
       "      <th>txn_per_week</th>\n",
       "    </tr>\n",
       "  </thead>\n",
       "  <tbody>\n",
       "    <tr>\n",
       "      <th>0</th>\n",
       "      <td>CUS-2487424745</td>\n",
       "      <td>60820.20</td>\n",
       "      <td>1725.063759</td>\n",
       "      <td>26</td>\n",
       "      <td>F</td>\n",
       "      <td>QLD</td>\n",
       "      <td>1452.21</td>\n",
       "      <td>21.312429</td>\n",
       "      <td>40.285714</td>\n",
       "    </tr>\n",
       "    <tr>\n",
       "      <th>1</th>\n",
       "      <td>CUS-2142601169</td>\n",
       "      <td>48102.24</td>\n",
       "      <td>1165.981724</td>\n",
       "      <td>38</td>\n",
       "      <td>M</td>\n",
       "      <td>NSW</td>\n",
       "      <td>2349.55</td>\n",
       "      <td>36.788828</td>\n",
       "      <td>20.714286</td>\n",
       "    </tr>\n",
       "    <tr>\n",
       "      <th>2</th>\n",
       "      <td>CUS-1614226872</td>\n",
       "      <td>42820.32</td>\n",
       "      <td>3298.238780</td>\n",
       "      <td>40</td>\n",
       "      <td>F</td>\n",
       "      <td>QLD</td>\n",
       "      <td>235.36</td>\n",
       "      <td>31.257195</td>\n",
       "      <td>17.571429</td>\n",
       "    </tr>\n",
       "    <tr>\n",
       "      <th>3</th>\n",
       "      <td>CUS-2688605418</td>\n",
       "      <td>55687.20</td>\n",
       "      <td>5534.418618</td>\n",
       "      <td>20</td>\n",
       "      <td>M</td>\n",
       "      <td>NSW</td>\n",
       "      <td>788.00</td>\n",
       "      <td>53.889756</td>\n",
       "      <td>8.785714</td>\n",
       "    </tr>\n",
       "    <tr>\n",
       "      <th>4</th>\n",
       "      <td>CUS-4123612273</td>\n",
       "      <td>64082.40</td>\n",
       "      <td>5210.560250</td>\n",
       "      <td>43</td>\n",
       "      <td>F</td>\n",
       "      <td>VIC</td>\n",
       "      <td>760.27</td>\n",
       "      <td>61.329667</td>\n",
       "      <td>8.571429</td>\n",
       "    </tr>\n",
       "  </tbody>\n",
       "</table>\n",
       "</div>"
      ],
      "text/plain": [
       "      customer_id    salary      balance  age gender state  max_txn  \\\n",
       "0  CUS-2487424745  60820.20  1725.063759   26      F   QLD  1452.21   \n",
       "1  CUS-2142601169  48102.24  1165.981724   38      M   NSW  2349.55   \n",
       "2  CUS-1614226872  42820.32  3298.238780   40      F   QLD   235.36   \n",
       "3  CUS-2688605418  55687.20  5534.418618   20      M   NSW   788.00   \n",
       "4  CUS-4123612273  64082.40  5210.560250   43      F   VIC   760.27   \n",
       "\n",
       "     avg_txn  txn_per_week  \n",
       "0  21.312429     40.285714  \n",
       "1  36.788828     20.714286  \n",
       "2  31.257195     17.571429  \n",
       "3  53.889756      8.785714  \n",
       "4  61.329667      8.571429  "
      ]
     },
     "execution_count": 281,
     "metadata": {},
     "output_type": "execute_result"
    }
   ],
   "source": [
    "sal_df.head()"
   ]
  },
  {
   "cell_type": "markdown",
   "id": "695c937f",
   "metadata": {},
   "source": [
    "# Interaction with salary"
   ]
  },
  {
   "cell_type": "code",
   "execution_count": 282,
   "id": "3d0d9c2a",
   "metadata": {},
   "outputs": [],
   "source": [
    "#plt.figure(figsize=(10,10))\n",
    "#sns.scatterplot(x='long', y='lat', size=sal_df['salary']*sal_df['salary'], data=sal_df)\n",
    "#doesnt seem like this has any relation with salary"
   ]
  },
  {
   "cell_type": "code",
   "execution_count": 283,
   "id": "37d39522",
   "metadata": {},
   "outputs": [
    {
     "name": "stderr",
     "output_type": "stream",
     "text": [
      "C:\\Users\\Apaala\\anaconda3\\lib\\site-packages\\seaborn\\_decorators.py:36: FutureWarning: Pass the following variables as keyword args: x, y. From version 0.12, the only valid positional argument will be `data`, and passing other arguments without an explicit keyword will result in an error or misinterpretation.\n",
      "  warnings.warn(\n"
     ]
    },
    {
     "data": {
      "text/plain": [
       "<AxesSubplot:xlabel='balance', ylabel='salary'>"
      ]
     },
     "execution_count": 283,
     "metadata": {},
     "output_type": "execute_result"
    },
    {
     "data": {
      "image/png": "[encoded data removed]",
      "text/plain": [
       "<Figure size 432x288 with 1 Axes>"
      ]
     },
     "metadata": {
      "needs_background": "light"
     },
     "output_type": "display_data"
    }
   ],
   "source": [
    "sns.scatterplot('balance','salary',data=sal_df)"
   ]
  },
  {
   "cell_type": "code",
   "execution_count": 284,
   "id": "501b7e6f",
   "metadata": {},
   "outputs": [
    {
     "name": "stderr",
     "output_type": "stream",
     "text": [
      "C:\\Users\\Apaala\\anaconda3\\lib\\site-packages\\seaborn\\_decorators.py:36: FutureWarning: Pass the following variables as keyword args: x, y. From version 0.12, the only valid positional argument will be `data`, and passing other arguments without an explicit keyword will result in an error or misinterpretation.\n",
      "  warnings.warn(\n"
     ]
    },
    {
     "data": {
      "text/plain": [
       "<AxesSubplot:xlabel='balance', ylabel='salary'>"
      ]
     },
     "execution_count": 284,
     "metadata": {},
     "output_type": "execute_result"
    },
    {
     "data": {
      "image/png": "[encoded data removed]",
      "text/plain": [
       "<Figure size 432x288 with 1 Axes>"
      ]
     },
     "metadata": {
      "needs_background": "light"
     },
     "output_type": "display_data"
    }
   ],
   "source": [
    "##we drop the outliers\n",
    "sal_df=sal_df[sal_df['balance']<100000]\n",
    "sns.scatterplot('balance','salary',data=sal_df)"
   ]
  },
  {
   "cell_type": "code",
   "execution_count": 285,
   "id": "85cfa754",
   "metadata": {},
   "outputs": [
    {
     "name": "stderr",
     "output_type": "stream",
     "text": [
      "C:\\Users\\Apaala\\anaconda3\\lib\\site-packages\\seaborn\\_decorators.py:36: FutureWarning: Pass the following variables as keyword args: x, y. From version 0.12, the only valid positional argument will be `data`, and passing other arguments without an explicit keyword will result in an error or misinterpretation.\n",
      "  warnings.warn(\n",
      "C:\\Users\\Apaala\\anaconda3\\lib\\site-packages\\seaborn\\_decorators.py:36: FutureWarning: Pass the following variables as keyword args: x, y. From version 0.12, the only valid positional argument will be `data`, and passing other arguments without an explicit keyword will result in an error or misinterpretation.\n",
      "  warnings.warn(\n",
      "C:\\Users\\Apaala\\anaconda3\\lib\\site-packages\\seaborn\\_decorators.py:36: FutureWarning: Pass the following variables as keyword args: x, y. From version 0.12, the only valid positional argument will be `data`, and passing other arguments without an explicit keyword will result in an error or misinterpretation.\n",
      "  warnings.warn(\n",
      "C:\\Users\\Apaala\\anaconda3\\lib\\site-packages\\seaborn\\_decorators.py:36: FutureWarning: Pass the following variables as keyword args: x, y. From version 0.12, the only valid positional argument will be `data`, and passing other arguments without an explicit keyword will result in an error or misinterpretation.\n",
      "  warnings.warn(\n"
     ]
    },
    {
     "data": {
      "image/png": "[encoded data removed]",
      "text/plain": [
       "<Figure size 2160x1440 with 6 Axes>"
      ]
     },
     "metadata": {
      "needs_background": "light"
     },
     "output_type": "display_data"
    }
   ],
   "source": [
    "fig,axs=plt.subplots(nrows=2,ncols=3,figsize=(30,20));\n",
    "sns.scatterplot('age','salary',data=sal_df, ax=axs[0][0]);\n",
    "sns.boxplot(x='gender',y='salary', data=sal_df, ax=axs[0][1]);\n",
    "sns.boxplot(x='state',y='salary', data=sal_df,ax=axs[0][2]);\n",
    "sns.scatterplot('max_txn','salary',data=sal_df,ax=axs[1][0]);\n",
    "sns.scatterplot('avg_txn','salary',data=sal_df,ax=axs[1][1]);\n",
    "sns.scatterplot('txn_per_week','salary',data=sal_df,ax=axs[1][2]);"
   ]
  },
  {
   "cell_type": "code",
   "execution_count": 286,
   "id": "41e25edd",
   "metadata": {},
   "outputs": [
    {
     "data": {
      "text/plain": [
       "<AxesSubplot:>"
      ]
     },
     "execution_count": 286,
     "metadata": {},
     "output_type": "execute_result"
    },
    {
     "data": {
      "image/png": "[encoded data removed]",
      "text/plain": [
       "<Figure size 432x288 with 2 Axes>"
      ]
     },
     "metadata": {
      "needs_background": "light"
     },
     "output_type": "display_data"
    }
   ],
   "source": [
    "cor=sal_df.corr()\n",
    "sns.heatmap(cor)"
   ]
  },
  {
   "cell_type": "code",
   "execution_count": 287,
   "id": "08634233",
   "metadata": {},
   "outputs": [],
   "source": [
    "from sklearn.preprocessing import LabelEncoder\n",
    "le1=LabelEncoder()\n",
    "sal_df['gender']=le1.fit_transform(sal_df['gender'])\n",
    "le2=LabelEncoder()\n",
    "sal_df['state']=le2.fit_transform(sal_df['state'])"
   ]
  },
  {
   "cell_type": "code",
   "execution_count": 288,
   "id": "5edc0e9e",
   "metadata": {},
   "outputs": [],
   "source": [
    "from sklearn.model_selection import train_test_split\n",
    "X=sal_df.drop(columns=['salary'])\n",
    "y=sal_df['salary']\n",
    "X_train, X_test, y_train, y_test = train_test_split(X, y, test_size=0.2, random_state=42)"
   ]
  },
  {
   "cell_type": "markdown",
   "id": "88786f72",
   "metadata": {},
   "source": [
    "# Regression Model"
   ]
  },
  {
   "cell_type": "code",
   "execution_count": 289,
   "id": "37d8d784",
   "metadata": {},
   "outputs": [
    {
     "data": {
      "text/plain": [
       "LinearRegression()"
      ]
     },
     "execution_count": 289,
     "metadata": {},
     "output_type": "execute_result"
    }
   ],
   "source": [
    "from sklearn.linear_model import LinearRegression\n",
    "model1=LinearRegression()\n",
    "model1.fit(X_train.drop(columns=['customer_id']),y_train)"
   ]
  },
  {
   "cell_type": "code",
   "execution_count": 290,
   "id": "c5c73373",
   "metadata": {},
   "outputs": [],
   "source": [
    "y_pred=model1.predict(X_test.drop(columns=['customer_id']))"
   ]
  },
  {
   "cell_type": "code",
   "execution_count": 292,
   "id": "a9cdb215",
   "metadata": {},
   "outputs": [
    {
     "name": "stdout",
     "output_type": "stream",
     "text": [
      "26578.868526719707\n"
     ]
    }
   ],
   "source": [
    "from sklearn.metrics import mean_squared_error\n",
    "print(mean_squared_error(y_pred,y_test,squared=False))"
   ]
  },
  {
   "cell_type": "markdown",
   "id": "4f595e31",
   "metadata": {},
   "source": [
    "# Tree Based Model"
   ]
  },
  {
   "cell_type": "code",
   "execution_count": 293,
   "id": "90c3393a",
   "metadata": {},
   "outputs": [
    {
     "data": {
      "text/plain": [
       "DecisionTreeRegressor()"
      ]
     },
     "execution_count": 293,
     "metadata": {},
     "output_type": "execute_result"
    }
   ],
   "source": [
    "from sklearn.tree import DecisionTreeRegressor\n",
    "model2=DecisionTreeRegressor()\n",
    "model2.fit(X_train.drop(columns=['customer_id']),y_train)"
   ]
  },
  {
   "cell_type": "code",
   "execution_count": 294,
   "id": "01d0318c",
   "metadata": {},
   "outputs": [
    {
     "name": "stdout",
     "output_type": "stream",
     "text": [
      "22981.421346863644\n"
     ]
    }
   ],
   "source": [
    "y_pred=model2.predict(X_test.drop(columns=['customer_id']))\n",
    "print(mean_squared_error(y_pred,y_test,squared=False))"
   ]
  },
  {
   "cell_type": "code",
   "execution_count": 296,
   "id": "a1f8b279",
   "metadata": {},
   "outputs": [
    {
     "name": "stdout",
     "output_type": "stream",
     "text": [
      "18171.917017920572\n"
     ]
    }
   ],
   "source": [
    "from sklearn.ensemble import RandomForestRegressor\n",
    "model3=RandomForestRegressor()\n",
    "model3.fit(X_train.drop(columns=['customer_id']),y_train)\n",
    "\n",
    "y_pred=model3.predict(X_test.drop(columns=['customer_id']))\n",
    "print(mean_squared_error(y_pred,y_test,squared=False))"
   ]
  }
 ],
 "metadata": {
  "kernelspec": {
   "display_name": "Python 3 (ipykernel)",
   "language": "python",
   "name": "python3"
  },
  "language_info": {
   "codemirror_mode": {
    "name": "ipython",
    "version": 3
   },
   "file_extension": ".py",
   "mimetype": "text/x-python",
   "name": "python",
   "nbconvert_exporter": "python",
   "pygments_lexer": "ipython3",
   "version": "3.9.12"
  }
 },
 "nbformat": 4,
 "nbformat_minor": 5
}
